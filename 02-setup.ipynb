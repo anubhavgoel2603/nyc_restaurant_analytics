{
 "cells": [
  {
   "cell_type": "code",
   "execution_count": 0,
   "metadata": {
    "application/vnd.databricks.v1+cell": {
     "cellMetadata": {
      "byteLimit": 2048000,
      "rowLimit": 10000
     },
     "inputWidgets": {},
     "nuid": "89c44022-1314-4a49-8af7-a0701cfc6fee",
     "showTitle": false,
     "tableResultSettingsMap": {},
     "title": ""
    }
   },
   "outputs": [],
   "source": [
    "%run ./01-config"
   ]
  },
  {
   "cell_type": "code",
   "execution_count": 0,
   "metadata": {
    "application/vnd.databricks.v1+cell": {
     "cellMetadata": {
      "byteLimit": 2048000,
      "rowLimit": 10000
     },
     "inputWidgets": {},
     "nuid": "70272c8c-21a6-4f6b-bde5-a9a6733b3ebb",
     "showTitle": false,
     "tableResultSettingsMap": {},
     "title": ""
    }
   },
   "outputs": [],
   "source": [
    "class Setup():\n",
    "    def __init__(self, db_name):\n",
    "        conf = Config()\n",
    "        self.db_name = db_name\n",
    "        self.catalog_name = conf.catalog_name\n",
    "        self.storage_account = conf.storage_account + self.db_name + \"/\"\n",
    "        self.initialized = False\n",
    "\n",
    "    def create_db(self):\n",
    "        spark.catalog.clearCache()\n",
    "        print(f\"Creating the database {self.catalog_name}.{self.db_name}...\", end=\" \")\n",
    "        spark.sql(f\"CREATE DATABASE IF NOT EXISTS {self.catalog_name}.{self.db_name}\")\n",
    "        self.initialized = True\n",
    "        print(\"Done\")\n",
    "    \n",
    "    def cleanup(self):\n",
    "        if spark.sql(f\"SHOW DATABASES IN {self.catalog_name}\").filter(f\"databaseName = '{self.db_name}'\").count() == 1:\n",
    "            print(f\"Dropping the database {self.catalog_name}.{self.db_name}...\", end='')\n",
    "            spark.sql(f\"DROP DATABASE IF EXISTS {self.catalog_name}.{self.db_name} CASCADE\")\n",
    "            print(\"Done\")\n",
    "        print(f\"Deleting Files from Storage Account from {self.storage_account}\")\n",
    "        items = dbutils.fs.ls(self.storage_account)\n",
    "        for item in items:\n",
    "            dbutils.fs.rm(item.path, True)\n",
    "            print(f\"✅ Deleted: {item.path}\")\n",
    "\n",
    "        print(f\"✅ All files and subfolders inside {self.storage_account} are deleted\")\n",
    "        self.initialized = False\n"
   ]
  }
 ],
 "metadata": {
  "application/vnd.databricks.v1+notebook": {
   "computePreferences": null,
   "dashboards": [],
   "environmentMetadata": {
    "base_environment": "",
    "environment_version": "2"
   },
   "language": "python",
   "notebookMetadata": {
    "pythonIndentUnit": 4
   },
   "notebookName": "02-setup",
   "widgets": {}
  },
  "language_info": {
   "name": "python"
  }
 },
 "nbformat": 4,
 "nbformat_minor": 0
}
