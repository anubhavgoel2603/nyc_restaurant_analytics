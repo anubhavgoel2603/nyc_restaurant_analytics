{
 "cells": [
  {
   "cell_type": "code",
   "execution_count": 0,
   "metadata": {
    "application/vnd.databricks.v1+cell": {
     "cellMetadata": {
      "byteLimit": 2048000,
      "rowLimit": 10000
     },
     "inputWidgets": {},
     "nuid": "f8fa5ec7-b745-46fa-b64e-01bb912c97ae",
     "showTitle": false,
     "tableResultSettingsMap": {},
     "title": ""
    }
   },
   "outputs": [],
   "source": [
    "class Config():\n",
    "    def __init__(self):\n",
    "        self.nyc_population_by_community_url= \"https://data.cityofnewyork.us/resource/xi7c-iiu2.json\"\n",
    "        self.nyc_restaurant_inspection_url = \"https://data.cityofnewyork.us/resource/43nn-pn8j.json\"\n",
    "        self.storage_account = spark.sql(\"DESCRIBE EXTERNAL LOCATION `nyc-managed-dev`\").select(\"url\").collect()[0][0]\n",
    "        self.checkpoint_location = \"dbfs:/FileStore/tables/\"\n",
    "        self.catalog_name = \"anubhav_data_hackathon\""
   ]
  }
 ],
 "metadata": {
  "application/vnd.databricks.v1+notebook": {
   "computePreferences": null,
   "dashboards": [],
   "environmentMetadata": {
    "base_environment": "",
    "environment_version": "2"
   },
   "language": "python",
   "notebookMetadata": {
    "pythonIndentUnit": 4
   },
   "notebookName": "01-config",
   "widgets": {}
  },
  "language_info": {
   "name": "python"
  }
 },
 "nbformat": 4,
 "nbformat_minor": 0
}
